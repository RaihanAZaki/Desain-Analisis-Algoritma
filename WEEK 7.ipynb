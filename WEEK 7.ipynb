{
 "cells": [
  {
   "cell_type": "code",
   "execution_count": 2,
   "id": "c2ffc3fb",
   "metadata": {},
   "outputs": [
    {
     "name": "stdout",
     "output_type": "stream",
     "text": [
      "(True, 3)\n",
      "(True, 6)\n"
     ]
    }
   ],
   "source": [
    "# Algoritma Brute Force \n",
    "# 1. Sequential Search\n",
    "\n",
    "def Sequential_Search(dlist, item):\n",
    "    pos = 0\n",
    "    found = False\n",
    "    \n",
    "    while pos < len(dlist) and not found:\n",
    "        if dlist[pos] == item:\n",
    "            found = True\n",
    "        else:\n",
    "            pos += 1\n",
    "    return found, pos\n",
    "\n",
    "\n",
    "print(Sequential_Search([11, 23, 58, 31, 56, 77, 43, 12, 65, 19], 31))\n",
    "\n",
    "# Latihan : Carilah string g dari deret a sampai h dengan sequential search\n",
    "print(Sequential_Search(['a', 'b', 'c', 'd', 'e', 'f', 'g', 'h'], 'g'))"
   ]
  },
  {
   "cell_type": "code",
   "execution_count": 3,
   "id": "8b82b7ac",
   "metadata": {},
   "outputs": [
    {
     "name": "stdout",
     "output_type": "stream",
     "text": [
      "Masukkan Bilangan: 5\n",
      "Masukkan pangkat: 2\n",
      "Hasil = 25\n"
     ]
    }
   ],
   "source": [
    "# Algoritma Brute Force\n",
    "# 2. Pangkat\n",
    "\n",
    "bilangan = int(input('Masukkan Bilangan: '))\n",
    "pangkat = int(input('Masukkan pangkat: '))\n",
    "\n",
    "def hitung_pangkat(bilangan, pangkat):\n",
    "    if pangkat > 1:\n",
    "        return bilangan * hitung_pangkat(bilangan, pangkat-1)\n",
    "    \n",
    "    return bilangan\n",
    "\n",
    "hasil = hitung_pangkat(bilangan, pangkat)\n",
    "print(f'Hasil = {hasil}')"
   ]
  },
  {
   "cell_type": "code",
   "execution_count": 4,
   "id": "17eaa2b0",
   "metadata": {},
   "outputs": [
    {
     "name": "stdout",
     "output_type": "stream",
     "text": [
      "Masukkan nilai n : 6\n",
      "6! = 720\n"
     ]
    }
   ],
   "source": [
    "# Algoritma Brute Force\n",
    "# 3. Faktorial\n",
    "\n",
    "n = int(input('Masukkan nilai n : '))\n",
    "\n",
    "def hitung_faktorial(n):\n",
    "    if n > 2:\n",
    "        return n * hitung_faktorial(n-1)\n",
    "    \n",
    "    return 2\n",
    "\n",
    "faktorial = hitung_faktorial(n)\n",
    "print(f'{n}! = {faktorial}')"
   ]
  },
  {
   "cell_type": "code",
   "execution_count": 5,
   "id": "16da5c31",
   "metadata": {},
   "outputs": [
    {
     "name": "stdout",
     "output_type": "stream",
     "text": [
      "3\n",
      "4\n"
     ]
    }
   ],
   "source": [
    "# Algoritma Brute Force\n",
    "# 4. String Matching\n",
    "\n",
    "def string_match(string, sub_str):\n",
    "    #Brute force string matching\n",
    "    for i in range(len(string) - len(sub_str)+1):\n",
    "        index = i #index Point to the 1 Three Characters to be compared\n",
    "        for j in range(len(sub_str)):\n",
    "            if string[index] == sub_str[j]:\n",
    "                index += 1\n",
    "            else: \n",
    "                break\n",
    "            if index-i == len(sub_str):\n",
    "                return i\n",
    "    return -1\n",
    "\n",
    "if __name__ == \"__main__\":\n",
    "    print(string_match(\"adbcbdc\", \"cbd\"))\n",
    "    \n",
    "# Latihan\n",
    "if __name__ == \"__main__\":\n",
    "    print(string_match(\"123456789\", \"56\"))"
   ]
  },
  {
   "cell_type": "code",
   "execution_count": 13,
   "id": "70654f49",
   "metadata": {},
   "outputs": [],
   "source": [
    "# Greedy Algorithm\n",
    "import random\n",
    "from itertools import permutations\n",
    "alltours = permutations\n",
    "\n",
    "def distance_tour(aTour):\n",
    "    return sum(distance_points(aTour[i - 1], aTour[i])\n",
    "        for i in range(len(aTour)))\n",
    "\n",
    "aCity = complex\n",
    "\n",
    "def distance_points(first, second):\n",
    "    return abs(first - second)\n",
    "\n",
    "def generate_cities(number_of_cities):\n",
    "    seed = 111;width = 500; height = 300\n",
    "    random.seed((number_of_cities, seed))\n",
    "    return frozenset(aCity(random.randint(1, width), random.randint(1, height))\n",
    "        for c in range(number_of_cities))"
   ]
  },
  {
   "cell_type": "code",
   "execution_count": 14,
   "id": "2168448d",
   "metadata": {},
   "outputs": [],
   "source": [
    "%matplotlib inline\n",
    "import matplotlib.pyplot as plt\n",
    "\n",
    "def visualize_tour(tour, style='bo-'):\n",
    "    if len(tour) > 1000: plt.figure(figsize=(15, 10))\n",
    "    start = tour[0:1]\n",
    "    visualize_segment(tour + start, style)\n",
    "    visualize_segment(start, 'rD')\n",
    "\n",
    "def visualize_segment(segment, style='bo-'):\n",
    "    plt.plot([X(c) for c in segment], [Y(c) for c in segment], style, clip_on = False)\n",
    "    plt.axis('scaled')\n",
    "    plt.axis('off')\n",
    "    \n",
    "def X(city): \"X axis\"; return city.real\n",
    "\n",
    "def Y(city): \"Y axis\";return city.imag"
   ]
  },
  {
   "cell_type": "code",
   "execution_count": 15,
   "id": "1a55c82c",
   "metadata": {},
   "outputs": [],
   "source": [
    "from time import process_time\n",
    "from collections import Counter\n",
    "def tsp(algorithm, cities):\n",
    "    t0 = process_time()\n",
    "    tour = algorithm(cities)\n",
    "    t1 = process_time()\n",
    "    assert Counter(tour) == Counter(cities)\n",
    "    visualize_tour(tour)\n",
    "    print(\"{}:{} cities => tour length {:.0f}(in{:.3f}sec)\".format(name(algorithm), len(tour), distance_tour(tour), t1-t0))\n",
    "    \n",
    "def name(algorithm): return algorithm.__name__.replace('_tsp', '')"
   ]
  },
  {
   "cell_type": "code",
   "execution_count": null,
   "id": "d2d15d61",
   "metadata": {},
   "outputs": [],
   "source": [
    "def brute_force(cities):\n",
    "    \"Generate all possible tours of the cities and choose the shortest tour.\"\n",
    "    return shortest_tour(alltours(cities))\n",
    "def shortest_tour(tours): return min(tours, key=distance_tour)"
   ]
  },
  {
   "cell_type": "code",
   "execution_count": null,
   "id": "94ad2b85",
   "metadata": {},
   "outputs": [],
   "source": [
    "tsp(brute_force, generate_cities(10))"
   ]
  },
  {
   "cell_type": "code",
   "execution_count": null,
   "id": "47446a9e",
   "metadata": {},
   "outputs": [],
   "source": []
  },
  {
   "cell_type": "code",
   "execution_count": null,
   "id": "5becb256",
   "metadata": {},
   "outputs": [],
   "source": []
  }
 ],
 "metadata": {
  "kernelspec": {
   "display_name": "Python 3",
   "language": "python",
   "name": "python3"
  },
  "language_info": {
   "codemirror_mode": {
    "name": "ipython",
    "version": 3
   },
   "file_extension": ".py",
   "mimetype": "text/x-python",
   "name": "python",
   "nbconvert_exporter": "python",
   "pygments_lexer": "ipython3",
   "version": "3.8.8"
  }
 },
 "nbformat": 4,
 "nbformat_minor": 5
}
