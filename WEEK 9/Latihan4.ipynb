{
  "nbformat": 4,
  "nbformat_minor": 0,
  "metadata": {
    "colab": {
      "name": "Untitled1.ipynb",
      "provenance": [],
      "collapsed_sections": [],
      "authorship_tag": "ABX9TyNU1uFeDMetMXHP591e5Z4U",
      "include_colab_link": true
    },
    "kernelspec": {
      "name": "python3",
      "display_name": "Python 3"
    },
    "language_info": {
      "name": "python"
    }
  },
  "cells": [
    {
      "cell_type": "markdown",
      "metadata": {
        "id": "view-in-github",
        "colab_type": "text"
      },
      "source": [
        "<a href=\"https://colab.research.google.com/github/RaihanAZaki/Desain-Analisis-Algoritma/blob/main/Latihan4.ipynb\" target=\"_parent\"><img src=\"https://colab.research.google.com/assets/colab-badge.svg\" alt=\"Open In Colab\"/></a>"
      ]
    },
    {
      "cell_type": "code",
      "metadata": {
        "colab": {
          "base_uri": "https://localhost:8080/",
          "height": 421
        },
        "id": "sOjGm_phzV80",
        "outputId": "a62c5c60-ebd6-42eb-b95f-d1319d94bb88"
      },
      "source": [
        "# Latihan 4\n",
        "import numpy as np\n",
        "import networkx as nx\n",
        "import matplotlib.pyplot as plt\n",
        "%matplotlib inline\n",
        "\n",
        "myWeb4 = nx.DiGraph()\n",
        "myPages4 = range(1,6)\n",
        "\n",
        "# Connections berguna untuk menghubungkan garis dengan array yang telah diisi\n",
        "connections4 = [(1,2),(2,3),(3,4),(4,5),(5,6),(6,1)]\n",
        "myWeb4.add_nodes_from(myPages4)\n",
        "myWeb4.add_edges_from(connections4)\n",
        "\n",
        "#plotting\n",
        "pos = nx.shell_layout(myWeb4)\n",
        "nx.draw(myWeb4, pos, arrows=True, with_labels=True)\n",
        "plt.show()\n",
        "\n",
        "# Membuat Hasil Page Ranknya\n",
        "G, p = createPageRank(myWeb4)\n",
        "print(G)\n"
      ],
      "execution_count": 12,
      "outputs": [
        {
          "output_type": "display_data",
          "data": {
            "image/png": "[encoded data removed]",
            "text/plain": [
              "<Figure size 432x288 with 1 Axes>"
            ]
          },
          "metadata": {}
        },
        {
          "output_type": "stream",
          "name": "stdout",
          "text": [
            "[[0. 0. 0. 0. 0. 1.]\n",
            " [1. 0. 0. 0. 0. 0.]\n",
            " [0. 1. 0. 0. 0. 0.]\n",
            " [0. 0. 1. 0. 0. 0.]\n",
            " [0. 0. 0. 1. 0. 0.]\n",
            " [0. 0. 0. 0. 1. 0.]]\n"
          ]
        }
      ]
    },
    {
      "cell_type": "code",
      "metadata": {
        "id": "nLjn7Sz_28F3"
      },
      "source": [
        ""
      ],
      "execution_count": 11,
      "outputs": []
    }
  ]
}
