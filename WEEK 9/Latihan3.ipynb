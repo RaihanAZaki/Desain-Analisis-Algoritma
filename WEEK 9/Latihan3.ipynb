{
  "nbformat": 4,
  "nbformat_minor": 0,
  "metadata": {
    "colab": {
      "name": "Untitled1.ipynb",
      "provenance": [],
      "collapsed_sections": [],
      "authorship_tag": "ABX9TyNtD6GlrThEc7UtIA3pk4MR",
      "include_colab_link": true
    },
    "kernelspec": {
      "name": "python3",
      "display_name": "Python 3"
    },
    "language_info": {
      "name": "python"
    }
  },
  "cells": [
    {
      "cell_type": "markdown",
      "metadata": {
        "id": "view-in-github",
        "colab_type": "text"
      },
      "source": [
        "<a href=\"https://colab.research.google.com/github/RaihanAZaki/Desain-Analisis-Algoritma/blob/main/Latihan3.ipynb\" target=\"_parent\"><img src=\"https://colab.research.google.com/assets/colab-badge.svg\" alt=\"Open In Colab\"/></a>"
      ]
    },
    {
      "cell_type": "code",
      "metadata": {
        "colab": {
          "base_uri": "https://localhost:8080/",
          "height": 404
        },
        "id": "sOjGm_phzV80",
        "outputId": "6c3a4e0f-6505-4f44-d530-700140a166f0"
      },
      "source": [
        "# Latihan 2\n",
        "import numpy as np\n",
        "import networkx as nx\n",
        "import matplotlib.pyplot as plt\n",
        "%matplotlib inline\n",
        "\n",
        "\n",
        "myWeb3 = nx.DiGraph()\n",
        "myPages3 = range(1,5)\n",
        "\n",
        "# Connections berguna untuk menghubungkan garis dengan array yang telah diisi\n",
        "connections3 = [(1,2),(2,1),(2,3),(3,2),(3,4),(4,3)]\n",
        "myWeb3.add_nodes_from(myPages3)\n",
        "myWeb3.add_edges_from(connections3)\n",
        "\n",
        "#plotting\n",
        "pos = nx.kamada_kawai_layout(myWeb3)\n",
        "nx.draw(myWeb3, pos, arrows=True, with_labels=True)\n",
        "plt.show()\n",
        "\n",
        "# Membuat hasil Page Ranknya\n",
        "G, p = createPageRank(myWeb2)\n",
        "print(G)"
      ],
      "execution_count": 10,
      "outputs": [
        {
          "output_type": "display_data",
          "data": {
            "image/png": "[encoded data removed]",
            "text/plain": [
              "<Figure size 432x288 with 1 Axes>"
            ]
          },
          "metadata": {}
        },
        {
          "output_type": "stream",
          "name": "stdout",
          "text": [
            "[[0. 0. 0. 0. 1.]\n",
            " [1. 0. 0. 0. 0.]\n",
            " [0. 1. 0. 0. 0.]\n",
            " [0. 0. 1. 0. 0.]\n",
            " [0. 0. 0. 1. 0.]]\n"
          ]
        }
      ]
    }
  ]
}
