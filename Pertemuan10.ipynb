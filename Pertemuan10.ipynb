{
  "nbformat": 4,
  "nbformat_minor": 0,
  "metadata": {
    "colab": {
      "name": "Untitled1.ipynb",
      "provenance": [],
      "collapsed_sections": [],
      "authorship_tag": "ABX9TyM8ULcLa7nFF5vW61r3NnZd",
      "include_colab_link": true
    },
    "kernelspec": {
      "name": "python3",
      "display_name": "Python 3"
    },
    "language_info": {
      "name": "python"
    }
  },
  "cells": [
    {
      "cell_type": "markdown",
      "metadata": {
        "id": "view-in-github",
        "colab_type": "text"
      },
      "source": [
        "<a href=\"https://colab.research.google.com/github/RaihanAZaki/Desain-Analisis-Algoritma/blob/main/Pertemuan10.ipynb\" target=\"_parent\"><img src=\"https://colab.research.google.com/assets/colab-badge.svg\" alt=\"Open In Colab\"/></a>"
      ]
    },
    {
      "cell_type": "code",
      "metadata": {
        "colab": {
          "base_uri": "https://localhost:8080/"
        },
        "id": "nLjn7Sz_28F3",
        "outputId": "f6a72e0d-26ba-49d6-9cef-ac916a523832"
      },
      "source": [
        "pip install pulp==2.3.1\n"
      ],
      "execution_count": 22,
      "outputs": [
        {
          "output_type": "stream",
          "name": "stdout",
          "text": [
            "Collecting pulp==2.3.1\n",
            "  Downloading PuLP-2.3.1-py3-none-any.whl (40.6 MB)\n",
            "\u001b[K     |████████████████████████████████| 40.6 MB 16 kB/s \n",
            "\u001b[?25hCollecting amply>=0.1.2\n",
            "  Downloading amply-0.1.4-py3-none-any.whl (16 kB)\n",
            "Requirement already satisfied: docutils>=0.3 in /usr/local/lib/python3.7/dist-packages (from amply>=0.1.2->pulp==2.3.1) (0.17.1)\n",
            "Requirement already satisfied: pyparsing in /usr/local/lib/python3.7/dist-packages (from amply>=0.1.2->pulp==2.3.1) (2.4.7)\n",
            "Installing collected packages: amply, pulp\n",
            "Successfully installed amply-0.1.4 pulp-2.3.1\n"
          ]
        }
      ]
    },
    {
      "cell_type": "code",
      "metadata": {
        "id": "uQTbr01L7W9p"
      },
      "source": [
        "import pulp"
      ],
      "execution_count": 23,
      "outputs": []
    },
    {
      "cell_type": "code",
      "metadata": {
        "id": "Rscn4O2J8Mc5"
      },
      "source": [
        "#instantiate our problem class\n",
        "model = pulp.LpProblem(\"ProfitMaxisingProblem\", pulp.LpMaximize)\n",
        "\n",
        "A = pulp.LpVariable('A', lowBound=0, cat ='Integer')\n",
        "B = pulp.LpVariable('B', lowBound=0, cat ='Integer')"
      ],
      "execution_count": 25,
      "outputs": []
    },
    {
      "cell_type": "code",
      "metadata": {
        "colab": {
          "base_uri": "https://localhost:8080/"
        },
        "id": "GMClK12R8Oz4",
        "outputId": "59342bfd-aa7d-4f1b-dc05-8b781808e355"
      },
      "source": [
        "#Objective function\n",
        "model += 5000 * A + 2500 * B, \"Profit\"\n",
        "\n",
        "#Contraints\n",
        "model += 3 * A + 2 * B <= 20\n",
        "model += 4 * A + 3 * B <= 30\n",
        "model += 4 * A + 3 * B <= 44"
      ],
      "execution_count": 27,
      "outputs": [
        {
          "output_type": "stream",
          "name": "stderr",
          "text": [
            "/usr/local/lib/python3.7/dist-packages/pulp/pulp.py:1530: UserWarning: Overwriting previously set objective.\n",
            "  warnings.warn(\"Overwriting previously set objective.\")\n"
          ]
        }
      ]
    },
    {
      "cell_type": "code",
      "metadata": {
        "colab": {
          "base_uri": "https://localhost:8080/",
          "height": 35
        },
        "id": "LjXznThK9tzx",
        "outputId": "bf724343-60a9-44e4-8ded-205708f46607"
      },
      "source": [
        "# Solve our problem\n",
        "model.solve()\n",
        "pulp.LpStatus[model.status]"
      ],
      "execution_count": 28,
      "outputs": [
        {
          "output_type": "execute_result",
          "data": {
            "application/vnd.google.colaboratory.intrinsic+json": {
              "type": "string"
            },
            "text/plain": [
              "'Optimal'"
            ]
          },
          "metadata": {},
          "execution_count": 28
        }
      ]
    },
    {
      "cell_type": "code",
      "metadata": {
        "colab": {
          "base_uri": "https://localhost:8080/"
        },
        "id": "9x-9a3yi-1_L",
        "outputId": "ef6ff621-7e00-416d-a977-b367133a26cb"
      },
      "source": [
        "#print our decision variable values\n",
        "print(A.varValue)\n",
        "print(B.varValue)\n",
        "\n",
        "#print our objective function value\n",
        "print(pulp.value(model.objective))"
      ],
      "execution_count": 32,
      "outputs": [
        {
          "output_type": "stream",
          "name": "stdout",
          "text": [
            "6.0\n",
            "1.0\n",
            "32500.0\n"
          ]
        }
      ]
    },
    {
      "cell_type": "code",
      "metadata": {
        "colab": {
          "base_uri": "https://localhost:8080/"
        },
        "id": "hlzcYdxQA9AE",
        "outputId": "73e6c86a-658a-423c-c22a-38e35c174b39"
      },
      "source": [
        "#instantiate our problem class\n",
        "model = pulp.LpProblem(\"ProfitMaxisingProblem\", pulp.LpMaximize)\n",
        "\n",
        "X = pulp.LpVariable('X', lowBound=0, cat ='Integer')\n",
        "Y = pulp.LpVariable('Y', lowBound=0, cat ='Integer')\n",
        "\n",
        "model += 4 * X + 3 * Y == 34\n",
        "model += 5 * X + 1 * Y == 37\n",
        "\n",
        "model.solve ()\n",
        "\n",
        "print (X.varValue)\n",
        "print (Y.varValue)"
      ],
      "execution_count": 34,
      "outputs": [
        {
          "output_type": "stream",
          "name": "stdout",
          "text": [
            "7.0\n",
            "2.0\n"
          ]
        }
      ]
    },
    {
      "cell_type": "code",
      "metadata": {
        "colab": {
          "base_uri": "https://localhost:8080/"
        },
        "id": "7DwFQSkBG1We",
        "outputId": "40a0774f-dbfb-4df6-a4c7-95c5cfa60187"
      },
      "source": [
        "#instantiate our problem class\n",
        "model = pulp.LpProblem(\"ProfitMaxisingProblem\", pulp.LpMaximize)\n",
        "\n",
        "X = pulp.LpVariable('X', lowBound=0, cat ='Integer')\n",
        "Y = pulp.LpVariable('Y', lowBound=0, cat ='Integer')\n",
        "\n",
        "model += 3 * X + 4 * Y == 11000\n",
        "model += 1 * X + 7 * Y == 15000\n",
        "model += 2 * X + 6 * Y, 'Profit'\n",
        "\n",
        "model.solve ()\n",
        "pulp.LpStatus[model.status]\n",
        "\n",
        "print (X.varValue)\n",
        "print (Y.varValue)\n",
        "print (pulp.value(model.objective))\n"
      ],
      "execution_count": 36,
      "outputs": [
        {
          "output_type": "stream",
          "name": "stdout",
          "text": [
            "1000.0\n",
            "2000.0\n",
            "14000.0\n"
          ]
        }
      ]
    },
    {
      "cell_type": "code",
      "metadata": {
        "colab": {
          "base_uri": "https://localhost:8080/"
        },
        "id": "5PB1BGOtHx1D",
        "outputId": "8ae3b2ce-3fc7-4b0d-fee0-78163ca30d09"
      },
      "source": [
        "#instantiate our problem class\n",
        "model = pulp.LpProblem(\"ProfitMaxisingProblem\", pulp.LpMaximize)\n",
        "\n",
        "P = pulp.LpVariable('P', lowBound=0, cat ='Integer')\n",
        "L = pulp.LpVariable('L', lowBound=0, cat ='Integer')\n",
        "\n",
        "model += 2 * P + 2 * L, 'Profit'\n",
        "\n",
        "\n",
        "model += 2 * P + 2 * L == 44\n",
        "model += 2 * P + 2 * (P-6) == 44\n",
        "\n",
        "model.solve ()\n",
        "pulp.LpStatus[model.status]\n",
        "\n",
        "print (P.varValue)\n",
        "print (L.varValue)\n",
        "print (pulp.value(model.objective))\n"
      ],
      "execution_count": 38,
      "outputs": [
        {
          "output_type": "stream",
          "name": "stdout",
          "text": [
            "14.0\n",
            "8.0\n",
            "44.0\n"
          ]
        }
      ]
    },
    {
      "cell_type": "code",
      "metadata": {
        "colab": {
          "base_uri": "https://localhost:8080/"
        },
        "id": "k4eF5ND_KVtq",
        "outputId": "276ad79b-7beb-4ccc-aca6-1723b89b5e09"
      },
      "source": [
        "import numpy as np\n",
        "from scipy.optimize import linprog\n",
        "\n",
        "A = np.array([[1,0], [2,3], [1,1], [-1,0], [0, -1]])\n",
        "\n",
        "# Set the inequality constraints vector\n",
        "b = np.array([[16, 19, 8, 0, 0]])\n",
        "\n",
        "# Set the coefficients of the linear objective function vector\n",
        "# Note : when maximizing, change the signs of the vector c coeffiecient\n",
        "c = np.array ([-5,-7])\n",
        "\n",
        "#Solve linear programming problem\n",
        "res = linprog(c, A_ub=A, b_ub=b)\n"
      ],
      "execution_count": 48,
      "outputs": [
        {
          "output_type": "stream",
          "name": "stderr",
          "text": [
            "/usr/local/lib/python3.7/dist-packages/numpy/core/fromnumeric.py:87: VisibleDeprecationWarning: Creating an ndarray from ragged nested sequences (which is a list-or-tuple of lists-or-tuples-or ndarrays with different lengths or shapes) is deprecated. If you meant to do this, you must specify 'dtype=object' when creating the ndarray\n",
            "  return ufunc.reduce(obj, axis, dtype, out, **passkwargs)\n"
          ]
        }
      ]
    },
    {
      "cell_type": "code",
      "metadata": {
        "colab": {
          "base_uri": "https://localhost:8080/"
        },
        "id": "xXm75zGLNd0Z",
        "outputId": "856ad229-6d30-4fa6-abd5-580823f1c923"
      },
      "source": [
        "#Print result\n",
        "print ('Optimal Value:', round(res.fun*-1, ndigits=2),\n",
        "       '\\nx values:', res.x,\n",
        "       '\\nNumber of iterations performed:', res.nit,\n",
        "       '\\nStatus:', res.message)"
      ],
      "execution_count": 49,
      "outputs": [
        {
          "output_type": "stream",
          "name": "stdout",
          "text": [
            "Optimal Value: 46.0 \n",
            "x values: [5. 3.] \n",
            "Number of iterations performed: 5 \n",
            "Status: Optimization terminated successfully.\n"
          ]
        }
      ]
    },
    {
      "cell_type": "code",
      "metadata": {
        "colab": {
          "base_uri": "https://localhost:8080/"
        },
        "id": "RV9WH-ptRJUC",
        "outputId": "b4989d58-b4d5-4191-c5d2-db307213da0a"
      },
      "source": [
        "A = np.array([[4,12], [2,1], [-1,0], [0, -1]])\n",
        "\n",
        "# Set the inequality constraints vector\n",
        "b = np.array([[28, 21, 0, 0]])\n",
        "\n",
        "# Set the coefficients of the linear objective function vector\n",
        "# Note : when maximizing, change the signs of the vector c coeffiecient\n",
        "c = np.array ([-5,-7])\n",
        "\n",
        "#Solve linear programming problem\n",
        "res = linprog(c, A_ub=A, b_ub=b)\n",
        "\n",
        "#Print result\n",
        "print ('Optimal Value:', round(res.fun*-1, ndigits=2),\n",
        "       '\\nx values:', res.x,\n",
        "       '\\nNumber of iterations performed:', res.nit,\n",
        "       '\\nStatus:', res.message)"
      ],
      "execution_count": 59,
      "outputs": [
        {
          "output_type": "stream",
          "name": "stdout",
          "text": [
            "Optimal Value: 35.0 \n",
            "x values: [7.00000000e+00 4.27537625e-11] \n",
            "Number of iterations performed: 4 \n",
            "Status: Optimization terminated successfully.\n"
          ]
        },
        {
          "output_type": "stream",
          "name": "stderr",
          "text": [
            "/usr/local/lib/python3.7/dist-packages/numpy/core/fromnumeric.py:87: VisibleDeprecationWarning: Creating an ndarray from ragged nested sequences (which is a list-or-tuple of lists-or-tuples-or ndarrays with different lengths or shapes) is deprecated. If you meant to do this, you must specify 'dtype=object' when creating the ndarray\n",
            "  return ufunc.reduce(obj, axis, dtype, out, **passkwargs)\n"
          ]
        }
      ]
    },
    {
      "cell_type": "code",
      "metadata": {
        "colab": {
          "base_uri": "https://localhost:8080/"
        },
        "id": "wiba5HcnirPR",
        "outputId": "89453388-0271-485d-a5e0-37eb0ce6278b"
      },
      "source": [
        "A = np.array([[1,1], [3,4], [-1,0], [0, -1]])\n",
        "\n",
        "# Set the inequality constraints vector\n",
        "b = np.array([[16, 55, 0, 0]])\n",
        "\n",
        "# Set the coefficients of the linear objective function vector\n",
        "# Note : when maximizing, change the signs of the vector c coeffiecient\n",
        "c = np.array ([-1,-1])\n",
        "\n",
        "#Solve linear programming problem\n",
        "res = linprog(c, A_ub=A, b_ub=b)\n",
        "\n",
        "#Print result\n",
        "print ('Optimal Value:', round(res.fun*-1, ndigits=2),\n",
        "       '\\nx values:', res.x,\n",
        "       '\\nNumber of iterations performed:', res.nit,\n",
        "       '\\nStatus:', res.message)"
      ],
      "execution_count": 61,
      "outputs": [
        {
          "output_type": "stream",
          "name": "stdout",
          "text": [
            "Optimal Value: 16.0 \n",
            "x values: [11.28137674  4.71862326] \n",
            "Number of iterations performed: 5 \n",
            "Status: Optimization terminated successfully.\n"
          ]
        },
        {
          "output_type": "stream",
          "name": "stderr",
          "text": [
            "/usr/local/lib/python3.7/dist-packages/numpy/core/fromnumeric.py:87: VisibleDeprecationWarning: Creating an ndarray from ragged nested sequences (which is a list-or-tuple of lists-or-tuples-or ndarrays with different lengths or shapes) is deprecated. If you meant to do this, you must specify 'dtype=object' when creating the ndarray\n",
            "  return ufunc.reduce(obj, axis, dtype, out, **passkwargs)\n"
          ]
        }
      ]
    },
    {
      "cell_type": "code",
      "metadata": {
        "id": "rM-qEca9hDqJ"
      },
      "source": [
        ""
      ],
      "execution_count": null,
      "outputs": []
    }
  ]
}