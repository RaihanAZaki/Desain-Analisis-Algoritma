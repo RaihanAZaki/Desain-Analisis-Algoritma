{
  "nbformat": 4,
  "nbformat_minor": 0,
  "metadata": {
    "colab": {
      "name": "Untitled2.ipynb",
      "provenance": [],
      "authorship_tag": "ABX9TyODwRxbRE/xUI65OeyuKz2y",
      "include_colab_link": true
    },
    "kernelspec": {
      "name": "python3",
      "display_name": "Python 3"
    },
    "language_info": {
      "name": "python"
    }
  },
  "cells": [
    {
      "cell_type": "markdown",
      "metadata": {
        "id": "view-in-github",
        "colab_type": "text"
      },
      "source": [
        "<a href=\"https://colab.research.google.com/github/RaihanAZaki/Desain-Analisis-Algoritma/blob/main/DAA%20WEEK%2011.ipynb\" target=\"_parent\"><img src=\"https://colab.research.google.com/assets/colab-badge.svg\" alt=\"Open In Colab\"/></a>"
      ]
    },
    {
      "cell_type": "code",
      "metadata": {
        "colab": {
          "base_uri": "https://localhost:8080/"
        },
        "id": "YG1B8q2V7hja",
        "outputId": "441c1416-ecd4-4a47-c37f-9cdb25687e2b"
      },
      "source": [
        "# Create the dictionary with graph element\n",
        "graph = { \"a\" : [\"b\", \"c\"],\n",
        "          \"b\" : [\"a\", \"d\"],\n",
        "          \"c\" : [\"a\", \"d\"],\n",
        "          \"d\" : [\"e\"],\n",
        "          \"e\" : [\"d\"]\n",
        "        }\n",
        "\n",
        "# Print the graph\n",
        "print(graph)"
      ],
      "execution_count": 1,
      "outputs": [
        {
          "output_type": "stream",
          "name": "stdout",
          "text": [
            "{'a': ['b', 'c'], 'b': ['a', 'd'], 'c': ['a', 'd'], 'd': ['e'], 'e': ['d']}\n"
          ]
        }
      ]
    },
    {
      "cell_type": "code",
      "metadata": {
        "colab": {
          "base_uri": "https://localhost:8080/"
        },
        "id": "UNOTv0SL7nPI",
        "outputId": "e9687235-9f92-4a40-ca5d-a386110a65bb"
      },
      "source": [
        "# Latihan Graph\n",
        "# T--U--V\n",
        "# |     |\n",
        "# W-----X\n",
        "# |     |\n",
        "# Z     S\n",
        "\n",
        "latihanGraph = { \"T\" : [\"U\", \"W\"],\n",
        "                 \"U\" : [\"T\", \"V\"],\n",
        "                 \"V\" : [\"U\", \"X\"],\n",
        "                 \"W\" : [\"T\", \"X\", \"Z\"],\n",
        "                 \"X\" : [\"V\", \"W\", \"S\"],\n",
        "                 \"Z\" : [\"W\"],\n",
        "                 \"S\" : [\"X\"]\n",
        "                }\n",
        "\n",
        "print(latihanGraph)\n"
      ],
      "execution_count": 2,
      "outputs": [
        {
          "output_type": "stream",
          "name": "stdout",
          "text": [
            "{'T': ['U', 'W'], 'U': ['T', 'V'], 'V': ['U', 'X'], 'W': ['T', 'X', 'Z'], 'X': ['V', 'W', 'S'], 'Z': ['W'], 'S': ['X']}\n"
          ]
        }
      ]
    },
    {
      "cell_type": "code",
      "metadata": {
        "colab": {
          "base_uri": "https://localhost:8080/"
        },
        "id": "-b67_hDv7rL2",
        "outputId": "63ede046-d02e-4243-8a54-724eda7399d5"
      },
      "source": [
        "# Latihan Graph 2\n",
        "# R--O--M\n",
        "# |  |  |\n",
        "# L--P--N\n",
        "\n",
        "latihanGraph2 = { \"R\" : [\"O\", \"L\"],\n",
        "                 \"O\" : [\"R\", \"M\", \"P\"],\n",
        "                 \"M\" : [\"O\", \"N\"],\n",
        "                 \"L\" : [\"R\", \"P\"],\n",
        "                 \"P\" : [\"L\", \"N\", \"O\"],\n",
        "                 \"N\" : [\"P\", \"M\"]\n",
        "                }\n",
        "\n",
        "print(latihanGraph2)"
      ],
      "execution_count": 3,
      "outputs": [
        {
          "output_type": "stream",
          "name": "stdout",
          "text": [
            "{'R': ['O', 'L'], 'O': ['R', 'M', 'P'], 'M': ['O', 'N'], 'L': ['R', 'P'], 'P': ['L', 'N', 'O'], 'N': ['P', 'M']}\n"
          ]
        }
      ]
    },
    {
      "cell_type": "code",
      "metadata": {
        "colab": {
          "base_uri": "https://localhost:8080/"
        },
        "id": "Q4QRXSFi7vSU",
        "outputId": "d2fa5ec7-75b7-459b-abd9-885b0d978563"
      },
      "source": [
        "class graph:\n",
        "    def __init__(self,gdict=None):\n",
        "        if gdict is None:\n",
        "            gdict = []\n",
        "        self.gdict = gdict\n",
        "        \n",
        "# Get the keys of the dictionary\n",
        "    def getVertices(self):\n",
        "        return list(self.gdict.keys())\n",
        "    \n",
        "# Create the dictionary with graph element\n",
        "graph_elements = { \"a\" : [\"b\", \"c\"],\n",
        "                   \"b\" : [\"a\", \"d\"],\n",
        "                   \"c\" : [\"a\", \"d\"],\n",
        "                   \"d\" : [\"e\"],\n",
        "                   \"e\" : [\"d\"]\n",
        "                  }\n",
        "\n",
        "g =  graph(graph_elements)\n",
        "print(g.getVertices())"
      ],
      "execution_count": 4,
      "outputs": [
        {
          "output_type": "stream",
          "name": "stdout",
          "text": [
            "['a', 'b', 'c', 'd', 'e']\n"
          ]
        }
      ]
    },
    {
      "cell_type": "code",
      "metadata": {
        "colab": {
          "base_uri": "https://localhost:8080/"
        },
        "id": "sDts2Ixc715y",
        "outputId": "dfc40f7e-76a6-467e-e8ba-4392563d158a"
      },
      "source": [
        "# latihan menampilkan simpul graph TUV\n",
        "\n",
        "class graph:\n",
        "    def __init__(self,gdict=None):\n",
        "        if gdict is None:\n",
        "            gdict = []\n",
        "        self.gdict = gdict\n",
        "        \n",
        "# Get the keys of the dictionary\n",
        "    def getVertices(self):\n",
        "        return list(self.gdict.keys())\n",
        "    \n",
        "# Create the dictionary with graph element\n",
        "latihanGraph_elements = { \"T\" : [\"U\", \"W\"],\n",
        "                 \"U\" : [\"T\", \"V\"],\n",
        "                 \"V\" : [\"U\", \"X\"],\n",
        "                 \"W\" : [\"T\", \"X\", \"Z\"],\n",
        "                 \"X\" : [\"V\", \"W\", \"S\"],\n",
        "                 \"Z\" : [\"W\"],\n",
        "                 \"S\" : [\"X\"]\n",
        "                }\n",
        "\n",
        "g =  graph(latihanGraph_elements)\n",
        "print(g.getVertices())"
      ],
      "execution_count": 5,
      "outputs": [
        {
          "output_type": "stream",
          "name": "stdout",
          "text": [
            "['T', 'U', 'V', 'W', 'X', 'Z', 'S']\n"
          ]
        }
      ]
    },
    {
      "cell_type": "code",
      "metadata": {
        "colab": {
          "base_uri": "https://localhost:8080/"
        },
        "id": "UvPZmOq874rW",
        "outputId": "d0155322-a05a-4a6e-8def-f3c10a9de089"
      },
      "source": [
        "# latihan menampilkan simpul graph ROM\n",
        "\n",
        "class graph:\n",
        "    def __init__(self,gdict=None):\n",
        "        if gdict is None:\n",
        "            gdict = []\n",
        "        self.gdict = gdict\n",
        "        \n",
        "# Get the keys of the dictionary\n",
        "    def getVertices(self):\n",
        "        return list(self.gdict.keys())\n",
        "\n",
        "# Create the dictionary with graph element\n",
        "latihanGraph_elements2 = { \"R\" : [\"O\", \"L\"],\n",
        "                 \"O\" : [\"R\", \"M\", \"P\"],\n",
        "                 \"M\" : [\"O\", \"N\"]\n",
        "                }\n",
        "\n",
        "g =  graph(latihanGraph_elements2)\n",
        "print(g.getVertices())"
      ],
      "execution_count": 6,
      "outputs": [
        {
          "output_type": "stream",
          "name": "stdout",
          "text": [
            "['R', 'O', 'M']\n"
          ]
        }
      ]
    },
    {
      "cell_type": "code",
      "metadata": {
        "colab": {
          "base_uri": "https://localhost:8080/"
        },
        "id": "wOZGrJaJ7-Bz",
        "outputId": "0d059ff0-3211-4f9f-d926-338cca3a3373"
      },
      "source": [
        "# MENAMPILKAN SUDUT (EDGE) PADA GRAPH\n",
        "\n",
        "class graph:\n",
        "    def __init__(self,gdict=None):\n",
        "        if gdict is None:\n",
        "            gdict = {}\n",
        "        self.gdict = gdict\n",
        "    \n",
        "    def edges(self):\n",
        "        return self.findedges()\n",
        "    \n",
        "# Find the distinct list of edges\n",
        "    def findedges(self):\n",
        "        edgename = []\n",
        "        for vrtx in self.gdict:\n",
        "            for nxtvrtx in self.gdict[vrtx]:\n",
        "                if {nxtvrtx, vrtx} not in edgename:\n",
        "                    edgename.append({vrtx, nxtvrtx})\n",
        "        return edgename\n",
        "        \n",
        "# Create the distionary with graph element\n",
        "graph_elements = { \"a\" : [\"b\", \"c\"],\n",
        "                   \"b\" : [\"a\", \"d\"],\n",
        "                   \"c\" : [\"a\", \"d\"],\n",
        "                   \"d\" : [\"e\"],\n",
        "                   \"e\" : [\"d\"]\n",
        "                  }\n",
        "\n",
        "g = graph(graph_elements)\n",
        "print (g.edges())\n"
      ],
      "execution_count": 7,
      "outputs": [
        {
          "output_type": "stream",
          "name": "stdout",
          "text": [
            "[{'a', 'b'}, {'a', 'c'}, {'d', 'b'}, {'d', 'c'}, {'d', 'e'}]\n"
          ]
        }
      ]
    },
    {
      "cell_type": "code",
      "metadata": {
        "colab": {
          "base_uri": "https://localhost:8080/"
        },
        "id": "osLVoKRa8CGG",
        "outputId": "4a7df18c-eddb-44d2-c3b8-33f32d745c0f"
      },
      "source": [
        "# Latihan menampikan sudut (EDGE) pada graph TUV\n",
        "\n",
        "# Latihan Graph\n",
        "# T--U--V\n",
        "\n",
        "class graph:\n",
        "    def __init__(self,gdict=None):\n",
        "        if gdict is None:\n",
        "            gdict = {}\n",
        "        self.gdict = gdict\n",
        "    \n",
        "    def edges(self):\n",
        "        return self.findedges()\n",
        "    \n",
        "# Find the distinct list of edges\n",
        "    def findedges(self):\n",
        "        edgename = []\n",
        "        for vrtx in self.gdict:\n",
        "            for nxtvrtx in self.gdict[vrtx]:\n",
        "                if {nxtvrtx, vrtx} not in edgename:\n",
        "                    edgename.append({vrtx, nxtvrtx})\n",
        "        return edgename\n",
        "        \n",
        "# Create the distionary with graph element\n",
        "latihanGraph_elements = { \"T\" : [\"U\", \"W\"],\n",
        "                 \"U\" : [\"T\", \"V\"],\n",
        "                 \"V\" : [\"U\", \"X\"],\n",
        "                 \"W\" : [\"T\", \"X\", \"Z\"],\n",
        "                 \"X\" : [\"V\", \"W\", \"S\"],\n",
        "                 \"Z\" : [\"W\"],\n",
        "                 \"S\" : [\"X\"]\n",
        "                }\n",
        "\n",
        "g = graph(latihanGraph_elements)\n",
        "print (g.edges())"
      ],
      "execution_count": 8,
      "outputs": [
        {
          "output_type": "stream",
          "name": "stdout",
          "text": [
            "[{'U', 'T'}, {'W', 'T'}, {'U', 'V'}, {'X', 'V'}, {'X', 'W'}, {'Z', 'W'}, {'X', 'S'}]\n"
          ]
        }
      ]
    },
    {
      "cell_type": "code",
      "metadata": {
        "colab": {
          "base_uri": "https://localhost:8080/"
        },
        "id": "FTJaaR-78GeA",
        "outputId": "2069b7fb-5658-4d3d-b123-b03a93d33839"
      },
      "source": [
        "# MENAMBAH VERTEX / SIMPUL\n",
        "# TAMBAHKAN SIMPUL F\n",
        "\n",
        "class graph:\n",
        "    def __init__(self,gdict=None):\n",
        "        if gdict is None:\n",
        "            gdict = {}\n",
        "        self.gdict = gdict\n",
        "        \n",
        "    def getVertices(self):\n",
        "        return list(self.gdict.keys())\n",
        "    \n",
        "# Add the vertex as a key\n",
        "    def addVertex(self, vrtx):\n",
        "        if vrtx not in self.gdict:\n",
        "            self.gdict[vrtx] = []\n",
        "            \n",
        "# Create the dictrionary with graph elements\n",
        "graph_elements = { \"a\" : [\"b\", \"c\"],\n",
        "                  \"b\" : [\"a\", \"d\"],\n",
        "                  \"c\" : [\"a\", \"d\"],\n",
        "                  \"d\" : [\"e\"],\n",
        "                  \"e\" : [\"d\"]\n",
        "                }\n",
        "\n",
        "g = graph(graph_elements)\n",
        "g.addVertex(\"f\")\n",
        "g.addVertex(\"g\")\n",
        "# g.addVertex(\"h\", \"i\") Tidak berlaku / tidak bisa\n",
        "print(g.getVertices())"
      ],
      "execution_count": 9,
      "outputs": [
        {
          "output_type": "stream",
          "name": "stdout",
          "text": [
            "['a', 'b', 'c', 'd', 'e', 'f', 'g']\n"
          ]
        }
      ]
    },
    {
      "cell_type": "code",
      "metadata": {
        "colab": {
          "base_uri": "https://localhost:8080/"
        },
        "id": "4P5mNIBR8JpR",
        "outputId": "4d1b7d16-118f-4f9d-a14c-c7341f93dac9"
      },
      "source": [
        "# MENAMBAH VERTEX / SIMPUL\n",
        "# Tambahkan simpul pada graph ROM\n",
        "\n",
        "class graph:\n",
        "    def __init__(self,gdict=None):\n",
        "        if gdict is None:\n",
        "            gdict = {}\n",
        "        self.gdict = gdict\n",
        "        \n",
        "    def getVertices(self):\n",
        "        return list(self.gdict.keys())\n",
        "    \n",
        "# Add the vertex as a key\n",
        "    def addVertex(self, vrtx):\n",
        "        if vrtx not in self.gdict:\n",
        "            self.gdict[vrtx] = []\n",
        "            \n",
        "# Create the dictrionary with graph elements\n",
        "latihanAddVertexGraph_elements = { \"R\" : [\"O\", \"L\"],\n",
        "                 \"O\" : [\"R\", \"M\", \"P\"],\n",
        "                 \"M\" : [\"O\", \"N\"],\n",
        "                 \"L\" : [\"R\", \"P\"],\n",
        "                 \"P\" : [\"L\", \"N\", \"O\"],\n",
        "                 \"N\" : [\"P\", \"M\"]\n",
        "                }\n",
        "\n",
        "g = graph(latihanAddVertexGraph_elements)\n",
        "g.addVertex(\"H\")\n",
        "print(g.getVertices())"
      ],
      "execution_count": 10,
      "outputs": [
        {
          "output_type": "stream",
          "name": "stdout",
          "text": [
            "['R', 'O', 'M', 'L', 'P', 'N', 'H']\n"
          ]
        }
      ]
    },
    {
      "cell_type": "code",
      "metadata": {
        "colab": {
          "base_uri": "https://localhost:8080/"
        },
        "id": "NPMhlBcp8M2G",
        "outputId": "d538a8b7-277c-4a7e-d30d-488ae9fc5c09"
      },
      "source": [
        "# MENAMBAH EDGE / SUDUT\n",
        "# TAMBAHKAN SUDUT A KE E DAN A KE C\n",
        "\n",
        "class graph:\n",
        "    def __init__(self,gdict=None):\n",
        "        if gdict is None:\n",
        "            gdict = {}\n",
        "        self.gdict = gdict\n",
        "        \n",
        "    def edges(self):\n",
        "        return self.findedges()\n",
        "    \n",
        "# Add the new edges\n",
        "    def AddEdge(self, edge):\n",
        "        edge = set(edge)\n",
        "        (vrtx1, vrtx2) = tuple(edge)\n",
        "        if vrtx1 in self.gdict:\n",
        "            self.gdict[vrtx1].append(vrtx2)\n",
        "        else:\n",
        "            self.gdict[vrtx1] = [vrtx2]\n",
        "            \n",
        "# List the edge names\n",
        "    def findedges(self):\n",
        "        edgename = []\n",
        "        for vrtx in self.gdict:\n",
        "            for nxtvrtx in self.gdict[vrtx]:\n",
        "                if{nxtvrtx, vrtx} not in edgename:\n",
        "                    edgename.append({vrtx, nxtvrtx})\n",
        "        return edgename\n",
        "    \n",
        "# Create the dictionary with graph element\n",
        "graph_elements = { \"a\" : [\"b\", \"c\"],\n",
        "                 \"b\" : [\"a\", \"d\"],\n",
        "                 \"c\" : [\"a\", \"d\"],\n",
        "                 \"d\" : [\"e\"],\n",
        "                 \"e\" : [\"d\"]\n",
        "                }\n",
        "\n",
        "g = graph(graph_elements)\n",
        "g.AddEdge({'a', 'e'})\n",
        "g.AddEdge({'a', 'c'})\n",
        "#g.AddEdge({'e', 'c'})\n",
        "print(g.edges())"
      ],
      "execution_count": 11,
      "outputs": [
        {
          "output_type": "stream",
          "name": "stdout",
          "text": [
            "[{'a', 'b'}, {'a', 'c'}, {'a', 'e'}, {'d', 'b'}, {'d', 'c'}, {'d', 'e'}]\n"
          ]
        }
      ]
    }
  ]
}