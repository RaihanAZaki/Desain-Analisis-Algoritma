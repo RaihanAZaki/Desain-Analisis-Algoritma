{
  "nbformat": 4,
  "nbformat_minor": 0,
  "metadata": {
    "colab": {
      "name": "Untitled1.ipynb",
      "provenance": [],
      "collapsed_sections": [],
      "authorship_tag": "ABX9TyO5fi3hKj906/boe3Ml8cms",
      "include_colab_link": true
    },
    "kernelspec": {
      "name": "python3",
      "display_name": "Python 3"
    },
    "language_info": {
      "name": "python"
    }
  },
  "cells": [
    {
      "cell_type": "markdown",
      "metadata": {
        "id": "view-in-github",
        "colab_type": "text"
      },
      "source": [
        "<a href=\"https://colab.research.google.com/github/RaihanAZaki/Desain-Analisis-Algoritma/blob/main/Latihan5.ipynb\" target=\"_parent\"><img src=\"https://colab.research.google.com/assets/colab-badge.svg\" alt=\"Open In Colab\"/></a>"
      ]
    },
    {
      "cell_type": "code",
      "metadata": {
        "colab": {
          "base_uri": "https://localhost:8080/",
          "height": 387
        },
        "id": "sOjGm_phzV80",
        "outputId": "ec757ef0-3abc-4ca6-babf-ce121a142fdc"
      },
      "source": [
        "# Latihan 5\n",
        "import numpy as np\n",
        "import networkx as nx\n",
        "import matplotlib.pyplot as plt\n",
        "%matplotlib inline\n",
        "\n",
        "myWeb5 = nx.DiGraph()\n",
        "myPages5 = range(1,4)\n",
        "\n",
        "# Connections berguna untuk menghubungkan garis dengan array yang telah diisi\n",
        "connections5 = [(1,2),(2,1),(2,3),(3,2),(3,4),(4,3),(4,1)]\n",
        "myWeb5.add_nodes_from(myPages5)\n",
        "myWeb5.add_edges_from(connections5)\n",
        "\n",
        "#plotting\n",
        "pos = nx.shell_layout(myWeb5)\n",
        "nx.draw(myWeb5, pos, arrows=True, with_labels=True)\n",
        "plt.show()\n",
        "\n",
        "# Membuat hasil Page Ranknya\n",
        "G, p = createPageRank(myWeb5)\n",
        "print(G)\n"
      ],
      "execution_count": 14,
      "outputs": [
        {
          "output_type": "display_data",
          "data": {
            "image/png": "[encoded data removed]",
            "text/plain": [
              "<Figure size 432x288 with 1 Axes>"
            ]
          },
          "metadata": {}
        },
        {
          "output_type": "stream",
          "name": "stdout",
          "text": [
            "[[0.  0.5 0.  0.5]\n",
            " [1.  0.  0.5 0. ]\n",
            " [0.  0.5 0.  0.5]\n",
            " [0.  0.  0.5 0. ]]\n"
          ]
        }
      ]
    },
    {
      "cell_type": "code",
      "metadata": {
        "id": "nLjn7Sz_28F3"
      },
      "source": [
        ""
      ],
      "execution_count": 11,
      "outputs": []
    }
  ]
}