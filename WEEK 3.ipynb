{
 "cells": [
  {
   "cell_type": "code",
   "execution_count": 2,
   "id": "fcf3565d",
   "metadata": {},
   "outputs": [
    {
     "data": {
      "text/html": [
       "<div>\n",
       "<style scoped>\n",
       "    .dataframe tbody tr th:only-of-type {\n",
       "        vertical-align: middle;\n",
       "    }\n",
       "\n",
       "    .dataframe tbody tr th {\n",
       "        vertical-align: top;\n",
       "    }\n",
       "\n",
       "    .dataframe thead th {\n",
       "        text-align: right;\n",
       "    }\n",
       "</style>\n",
       "<table border=\"1\" class=\"dataframe\">\n",
       "  <thead>\n",
       "    <tr style=\"text-align: right;\">\n",
       "      <th></th>\n",
       "      <th>No</th>\n",
       "      <th>Prodi</th>\n",
       "      <th>Mahasiswa</th>\n",
       "      <th>Lakilaki</th>\n",
       "      <th>Perempuan</th>\n",
       "    </tr>\n",
       "  </thead>\n",
       "  <tbody>\n",
       "    <tr>\n",
       "      <th>0</th>\n",
       "      <td>1</td>\n",
       "      <td>Informatika</td>\n",
       "      <td>50</td>\n",
       "      <td>30</td>\n",
       "      <td>20</td>\n",
       "    </tr>\n",
       "    <tr>\n",
       "      <th>1</th>\n",
       "      <td>2</td>\n",
       "      <td>Sistem Informasi</td>\n",
       "      <td>55</td>\n",
       "      <td>30</td>\n",
       "      <td>25</td>\n",
       "    </tr>\n",
       "    <tr>\n",
       "      <th>2</th>\n",
       "      <td>3</td>\n",
       "      <td>Teknik Sipil</td>\n",
       "      <td>40</td>\n",
       "      <td>30</td>\n",
       "      <td>10</td>\n",
       "    </tr>\n",
       "  </tbody>\n",
       "</table>\n",
       "</div>"
      ],
      "text/plain": [
       "  No             Prodi  Mahasiswa  Lakilaki  Perempuan\n",
       "0  1       Informatika         50        30         20\n",
       "1  2  Sistem Informasi         55        30         25\n",
       "2  3      Teknik Sipil         40        30         10"
      ]
     },
     "execution_count": 2,
     "metadata": {},
     "output_type": "execute_result"
    }
   ],
   "source": [
    "# Latihan Data Frame\n",
    "\n",
    "# Import package pandas terlebih dahulu\n",
    "import pandas as pd\n",
    "\n",
    "# Program\n",
    "mhs = pd.DataFrame([['1', 'Informatika', 50, 30, 20], [\n",
    "                   '2', 'Sistem Informasi', 55, 30, 25], ['3', 'Teknik Sipil', 40, 30, 10]])\n",
    "\n",
    "# Membuat columns\n",
    "mhs.columns = ['No', 'Prodi', 'Mahasiswa', 'Lakilaki', 'Perempuan']\n",
    "mhs"
   ]
  },
  {
   "cell_type": "code",
   "execution_count": 4,
   "id": "f8dd8ee8",
   "metadata": {},
   "outputs": [
    {
     "name": "stdout",
     "output_type": "stream",
     "text": [
      "{'Nama': 'Raihan Ashil Zaki', 'NIM': '2020071037', 'Prodi': 'Informatika', 'Universitas': 'Universitas Pembangunan Jaya'}\n"
     ]
    }
   ],
   "source": [
    "# Latihan Dictionary\n",
    "state = {\n",
    "    \"Nama\": \"Raihan Ashil Zaki\",\n",
    "    \"NIM\": \"2020071037\",\n",
    "    \"Prodi\": \"Informatika\",\n",
    "    \"Universitas\": \"Universitas Pembangunan Jaya\"\n",
    "}\n",
    "print(state)"
   ]
  },
  {
   "cell_type": "code",
   "execution_count": 6,
   "id": "a541560d",
   "metadata": {},
   "outputs": [
    {
     "name": "stdout",
     "output_type": "stream",
     "text": [
      "['Raihan Ashil Zaki', '2020071037', 'Informatika', 'Desain dan Analisis Algoritma', '20', 'UPJ']\n",
      "2020071037\n",
      "UPJ\n",
      "['2020071037', 'Informatika']\n",
      "UPJ Raihan Ashil Zaki\n",
      "UPJ 2020071037\n",
      "UPJ Informatika\n",
      "UPJ Desain dan Analisis Algoritma\n",
      "UPJ 20\n",
      "UPJ UPJ\n"
     ]
    }
   ],
   "source": [
    "# Latihan List \n",
    "Mahasiswa = [\"Raihan Ashil Zaki\", \"2020071037\", \"Informatika\", \"Desain dan Analisis Algoritma\", \"20\", \"UPJ\"]\n",
    "print(Mahasiswa) #menampilkan seluruh data yang ada pada List Mahasiswa\n",
    "print(Mahasiswa[1])#Mengambil dan mencetak data NIM\n",
    "print(Mahasiswa[5])#Mengambil dan mencetak nama Universitas\n",
    "print(Mahasiswa[1:3])#Mengambil dan mencetak NIM dan Prodi menggunakan list slicing\n",
    "# Menambahkan kata UPJ menggunakan Iterasi\n",
    "for aUniv in Mahasiswa:\n",
    "    print(\"UPJ \" + aUniv)"
   ]
  },
  {
   "cell_type": "code",
   "execution_count": 7,
   "id": "98fdc2dd",
   "metadata": {},
   "outputs": [
    {
     "name": "stdout",
     "output_type": "stream",
     "text": [
      "[[ 100  200  300]\n",
      " [ 700  600  500]\n",
      " [ 900 1000  800]]\n"
     ]
    },
    {
     "data": {
      "text/plain": [
       "array([[0, 3, 6],\n",
       "       [1, 4, 7],\n",
       "       [2, 5, 8]])"
      ]
     },
     "execution_count": 7,
     "metadata": {},
     "output_type": "execute_result"
    }
   ],
   "source": [
    "import numpy as np\n",
    "\n",
    "\n",
    "# Latihan Matrix\n",
    "ourMatrix = np.array([[100, 200, 300], [700, 600, 500], [900, 1000, 800]])\n",
    "print(ourMatrix)\n",
    "transMatrix = np.arange(9).reshape((3, 3))\n",
    "np.transpose(transMatrix)"
   ]
  },
  {
   "cell_type": "code",
   "execution_count": 8,
   "id": "bfd5af34",
   "metadata": {},
   "outputs": [
    {
     "name": "stdout",
     "output_type": "stream",
     "text": [
      "{'leaves', 'dandelions', 'fire hydrant', 'rose', 'blood'}\n",
      "{'fire hydrant'}\n"
     ]
    }
   ],
   "source": [
    "# Latihan Sets\n",
    "yellow = {'dandelions', 'fire hydrant'}\n",
    "red = {'fire hydrant', 'blood', 'rose', 'leaves'}\n",
    "print(yellow | red)\n",
    "print(yellow & red)"
   ]
  },
  {
   "cell_type": "code",
   "execution_count": 9,
   "id": "128e012f",
   "metadata": {},
   "outputs": [
    {
     "name": "stdout",
     "output_type": "stream",
     "text": [
      "Pembangunan\n",
      "('Universitas', 'Pembangunan', 'Jaya')\n",
      "(100, (200, 400, 600), 300, (400, 800))\n"
     ]
    }
   ],
   "source": [
    "# Latihan Tuples\n",
    "UPJ = (\"Universitas\", \"Pembangunan\", \"Jaya\")\n",
    "print(UPJ[1])  # Mengambil dan mencetak elemen dari index ke-1\n",
    "# Mengambil dan mencetak elemen dari index ke-0 sampai ke-n(terakhir)\n",
    "print(UPJ[0:])\n",
    "\n",
    "# Nested tuples\n",
    "Pertama = (100)\n",
    "Kedua = (200, 400, 600)\n",
    "Ketiga = (300)\n",
    "Keempat = (400, 800)\n",
    "nested_tuple = Pertama, Kedua, Ketiga, Keempat\n",
    "print(nested_tuple)"
   ]
  },
  {
   "cell_type": "code",
   "execution_count": null,
   "id": "895579b1",
   "metadata": {},
   "outputs": [],
   "source": []
  }
 ],
 "metadata": {
  "kernelspec": {
   "display_name": "Python 3",
   "language": "python",
   "name": "python3"
  },
  "language_info": {
   "codemirror_mode": {
    "name": "ipython",
    "version": 3
   },
   "file_extension": ".py",
   "mimetype": "text/x-python",
   "name": "python",
   "nbconvert_exporter": "python",
   "pygments_lexer": "ipython3",
   "version": "3.8.8"
  }
 },
 "nbformat": 4,
 "nbformat_minor": 5
}
