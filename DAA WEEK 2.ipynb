{
 "cells": [
  {
   "cell_type": "code",
   "execution_count": 25,
   "id": "9b9386b2",
   "metadata": {},
   "outputs": [],
   "source": [
    "import numpy as np"
   ]
  },
  {
   "cell_type": "code",
   "execution_count": 26,
   "id": "9325b1b1",
   "metadata": {},
   "outputs": [
    {
     "name": "stdout",
     "output_type": "stream",
     "text": [
      "1.20.1\n"
     ]
    }
   ],
   "source": [
    "print(np.__version__)\n",
    "#Cek Versi Python"
   ]
  },
  {
   "cell_type": "code",
   "execution_count": 3,
   "id": "e99ebe78",
   "metadata": {},
   "outputs": [
    {
     "name": "stdout",
     "output_type": "stream",
     "text": [
      "Hello World\n"
     ]
    }
   ],
   "source": [
    "print(\"Hello World\")\n",
    "#Print HelloWorld"
   ]
  },
  {
   "cell_type": "code",
   "execution_count": 27,
   "id": "8d52dd46",
   "metadata": {},
   "outputs": [
    {
     "name": "stdout",
     "output_type": "stream",
     "text": [
      "Nama saya (Raihan)\n"
     ]
    }
   ],
   "source": [
    " print(\"Nama saya (Raihan)\")\n",
    "#Print Nama"
   ]
  },
  {
   "cell_type": "code",
   "execution_count": 5,
   "id": "a6700e4b",
   "metadata": {},
   "outputs": [
    {
     "name": "stdout",
     "output_type": "stream",
     "text": [
      "NIM saya (2020071037)\n"
     ]
    }
   ],
   "source": [
    "print(\"NIM saya (2020071037)\")\n",
    "#Print NIM"
   ]
  },
  {
   "cell_type": "code",
   "execution_count": 6,
   "id": "8f8674c0",
   "metadata": {},
   "outputs": [
    {
     "name": "stdout",
     "output_type": "stream",
     "text": [
      "Five is greater than two!\n"
     ]
    }
   ],
   "source": [
    "if 5>2:\n",
    "    print (\"Five is greater than two!\")\n",
    "#Print if"
   ]
  },
  {
   "cell_type": "code",
   "execution_count": 28,
   "id": "e7e82937",
   "metadata": {},
   "outputs": [
    {
     "name": "stdout",
     "output_type": "stream",
     "text": [
      "5\n",
      "john\n",
      "Sally\n"
     ]
    }
   ],
   "source": [
    "x = 5\n",
    "y = (\"john\")\n",
    "print (x)\n",
    "print (y)\n",
    "#Print var x dan var y\n",
    "\n",
    "x = 4\n",
    "x = (\"Sally\")\n",
    "print (x)\n",
    "#Print x mengapa Sally karena nilai \"4\" telah tertimpa oleh x = \"Sally\""
   ]
  },
  {
   "cell_type": "code",
   "execution_count": 8,
   "id": "7905db8e",
   "metadata": {},
   "outputs": [
    {
     "data": {
      "text/plain": [
       "1"
      ]
     },
     "execution_count": 8,
     "metadata": {},
     "output_type": "execute_result"
    }
   ],
   "source": [
    "def getFirst(myList):\n",
    "    return myList[0]\n",
    "getFirst([1,2,3])\n",
    "#Print angka pertama "
   ]
  },
  {
   "cell_type": "code",
   "execution_count": 9,
   "id": "95d1e378",
   "metadata": {},
   "outputs": [
    {
     "data": {
      "text/plain": [
       "2"
      ]
     },
     "execution_count": 9,
     "metadata": {},
     "output_type": "execute_result"
    }
   ],
   "source": [
    "def getSecond(myList):\n",
    "    return myList[1]\n",
    "getSecond([1,2,3])\n",
    "#Print angka kedua"
   ]
  },
  {
   "cell_type": "code",
   "execution_count": 29,
   "id": "2bf7de1b",
   "metadata": {},
   "outputs": [
    {
     "data": {
      "text/plain": [
       "3"
      ]
     },
     "execution_count": 29,
     "metadata": {},
     "output_type": "execute_result"
    }
   ],
   "source": [
    "def getLast(myList):\n",
    "    return myList[-1]\n",
    "getLast([1,2,3])\n",
    "#Print angka terakhir"
   ]
  },
  {
   "cell_type": "code",
   "execution_count": 2,
   "id": "4b8cb2dc",
   "metadata": {
    "scrolled": true
   },
   "outputs": [
    {
     "data": {
      "text/plain": [
       "6"
      ]
     },
     "execution_count": 2,
     "metadata": {},
     "output_type": "execute_result"
    }
   ],
   "source": [
    "def getSum(myList):\n",
    "    sum = 0\n",
    "    for item in myList:\n",
    "        sum = sum+item\n",
    "    return sum\n",
    "getSum([1,2,3])\n",
    "#Sum penjumlahan"
   ]
  },
  {
   "cell_type": "code",
   "execution_count": 4,
   "id": "ad4a8a9d",
   "metadata": {},
   "outputs": [
    {
     "data": {
      "text/plain": [
       "24"
      ]
     },
     "execution_count": 4,
     "metadata": {},
     "output_type": "execute_result"
    }
   ],
   "source": [
    "def getKali(myList):\n",
    "    sum = 1\n",
    "    for item in myList:\n",
    "        sum = sum*item\n",
    "    return sum\n",
    "getKali([1,2,3,4])\n",
    "#Sum perkalian"
   ]
  },
  {
   "cell_type": "code",
   "execution_count": 6,
   "id": "93930569",
   "metadata": {},
   "outputs": [
    {
     "data": {
      "text/plain": [
       "2.0"
      ]
     },
     "execution_count": 6,
     "metadata": {},
     "output_type": "execute_result"
    }
   ],
   "source": [
    "def getBagi(myList):\n",
    "    sum = 100\n",
    "    for item in myList:\n",
    "        sum = sum/item\n",
    "    return sum\n",
    "getBagi([10,5,1])\n",
    "#Sum pembagian"
   ]
  },
  {
   "cell_type": "code",
   "execution_count": 8,
   "id": "13b667d1",
   "metadata": {},
   "outputs": [
    {
     "data": {
      "text/plain": [
       "22"
      ]
     },
     "execution_count": 8,
     "metadata": {},
     "output_type": "execute_result"
    }
   ],
   "source": [
    "def getSum(myList):\n",
    "    sum = 0\n",
    "    for row in myList:\n",
    "        for item in row:\n",
    "            sum += item\n",
    "    return sum\n",
    "getSum ([[1,2,5],[3,4,7]])\n",
    "#getSum ([[1,2],[3,4]])\n",
    "#getSum ([[1,2,3],[4,5,6]])\n",
    "\n",
    "#Penjumlahan 2 himpunan angka"
   ]
  },
  {
   "cell_type": "code",
   "execution_count": 30,
   "id": "7e1fa499",
   "metadata": {},
   "outputs": [
    {
     "data": {
      "text/plain": [
       "0.001388888888888889"
      ]
     },
     "execution_count": 30,
     "metadata": {},
     "output_type": "execute_result"
    }
   ],
   "source": [
    "def getBagi(myList):\n",
    "    sum = 1\n",
    "    for row in myList:\n",
    "        for item in row:\n",
    "                sum /= item\n",
    "    return sum\n",
    "getBagi([[1,2,3],[4,5,6]])\n",
    "\n",
    "#Pembagian 2 himpunan angka"
   ]
  },
  {
   "cell_type": "code",
   "execution_count": 36,
   "id": "4ee36a56",
   "metadata": {},
   "outputs": [
    {
     "data": {
      "text/plain": [
       "29"
      ]
     },
     "execution_count": 36,
     "metadata": {},
     "output_type": "execute_result"
    }
   ],
   "source": [
    "def getPengurangan(myList):\n",
    "    sum = 50\n",
    "    for row in myList:\n",
    "        for item in row:\n",
    "            sum -= item\n",
    "    return sum\n",
    "getPengurangan([[1,2,3],[4,5,6]])\n",
    "\n",
    "#Pengurangan 2 himpunan angka"
   ]
  },
  {
   "cell_type": "code",
   "execution_count": 22,
   "id": "68119aeb",
   "metadata": {},
   "outputs": [
    {
     "data": {
      "text/plain": [
       "False"
      ]
     },
     "execution_count": 22,
     "metadata": {},
     "output_type": "execute_result"
    }
   ],
   "source": [
    "def searchBinary(myList,item):\n",
    "    first = 0\n",
    "    last = len(myList)-1\n",
    "    foundFlag = False\n",
    "    while( first<=last and not foundFlag):\n",
    "        mid = (first + last) //2\n",
    "        if myList[mid] == item :\n",
    "            foundFlag = True\n",
    "        else:\n",
    "            if item < myList[mid]:\n",
    "                last = mid - 1\n",
    "            else:\n",
    "                first = mid + 1\n",
    "    return foundFlag\n",
    "#searchBinary ([8,9,10,100,1000,2000,3000], 10)\n",
    "searchBinary ([8,9,10,100,1000,2000,3000], 5)\n",
    "\n",
    "#Mencari binary dengan jawaban \"True\" or \"False\""
   ]
  },
  {
   "cell_type": "code",
   "execution_count": null,
   "id": "be7ebaba",
   "metadata": {},
   "outputs": [],
   "source": []
  }
 ],
 "metadata": {
  "kernelspec": {
   "display_name": "Python 3",
   "language": "python",
   "name": "python3"
  },
  "language_info": {
   "codemirror_mode": {
    "name": "ipython",
    "version": 3
   },
   "file_extension": ".py",
   "mimetype": "text/x-python",
   "name": "python",
   "nbconvert_exporter": "python",
   "pygments_lexer": "ipython3",
   "version": "3.8.8"
  }
 },
 "nbformat": 4,
 "nbformat_minor": 5
}
